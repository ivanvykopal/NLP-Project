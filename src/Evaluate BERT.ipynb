{
 "cells": [
  {
   "cell_type": "code",
   "execution_count": 1,
   "metadata": {},
   "outputs": [],
   "source": [
    "import json\n",
    "import pandas as pd\n",
    "import glob"
   ]
  },
  {
   "cell_type": "code",
   "execution_count": 2,
   "metadata": {},
   "outputs": [],
   "source": [
    "data_path = './models/'"
   ]
  },
  {
   "cell_type": "code",
   "execution_count": 3,
   "metadata": {},
   "outputs": [],
   "source": [
    "embedding_models_en = [\n",
    "  'ccnews_en',\n",
    "  'ud_en',\n",
    "]\n",
    "\n",
    "embedding_models_cs = [\n",
    "  'combined_cs',\n",
    "  'sumeczech_cs',\n",
    "  'ud_cs',\n",
    "  'wikipedia_cs'\n",
    "]\n",
    "\n",
    "embedding_models_sk = [\n",
    "  'combined_sk',\n",
    "  'slovaksum_sk',\n",
    "  'squad_sk',\n",
    "  'ud_sk',\n",
    "  'wikipedia_sk'\n",
    "]\n",
    "\n",
    "embedding_models_cs_sk = [\n",
    "  'ud_cs_sk',\n",
    "  'wikipedia_cs_sk',\n",
    "]"
   ]
  },
  {
   "cell_type": "code",
   "execution_count": 4,
   "metadata": {},
   "outputs": [],
   "source": [
    "downstream_en = [\n",
    "  'combined_claim_en',\n",
    "  'fever',\n",
    "  'liar',\n",
    "  'multifc',\n",
    "  'xfact',\n",
    "]\n",
    "\n",
    "downstream_cs = [\n",
    "  'combined_claim_cs',\n",
    "  'csfever',\n",
    "  'ctkfacts',\n",
    "  'demagog'\n",
    "]\n",
    "\n",
    "downstream_sk = [\n",
    "  'combined_claim_sk',\n",
    "  'demagog'\n",
    "]"
   ]
  },
  {
   "cell_type": "code",
   "execution_count": null,
   "metadata": {},
   "outputs": [],
   "source": [
    "results = dict()\n",
    "\n",
    "for embed in embedding_models_cs_sk:\n",
    "    for task in downstream_sk:\n",
    "\n",
    "      metrcis_file = glob.glob(data_path + embed + '/' + task + '/CustomBERT/metrics*.json')\n",
    "      metrcis_file.sort()\n",
    "      # load all metrics file\n",
    "      metrics = []\n",
    "      for file in metrcis_file:\n",
    "        with open(file) as json_file:\n",
    "          metrics.append(json.load(json_file))\n",
    "\n",
    "      # add data to dataframe\n",
    "      df = pd.DataFrame()\n",
    "      for idx, metric in enumerate(metrics):\n",
    "        # get seed idx\n",
    "        seed = metrcis_file[idx].split('/')[-1].split('.')[0].split('-')[-1]\n",
    "        record_df = pd.DataFrame.from_dict(metric, orient='index').T\n",
    "        record_df['seed'] = seed\n",
    "        df = pd.concat([df, record_df], ignore_index=True)\n",
    "      \n",
    "      results[embed + '_' + task] = df"
   ]
  },
  {
   "cell_type": "code",
   "execution_count": null,
   "metadata": {},
   "outputs": [],
   "source": [
    "results"
   ]
  },
  {
   "cell_type": "code",
   "execution_count": null,
   "metadata": {},
   "outputs": [],
   "source": [
    "results['wikipedia_cs_sk_demagog']#.iloc[[0, 1]].describe()"
   ]
  },
  {
   "cell_type": "code",
   "execution_count": 5,
   "metadata": {},
   "outputs": [],
   "source": [
    "embedding2_en = [\n",
    "  'ccnews_en_embedding',\n",
    "  'ud_en_embedding',\n",
    "  'wikipedia_en_embedding',\n",
    "  'combined_en_embedding',\n",
    "]\n",
    "\n",
    "embedding2_cs = [\n",
    "  'combined_cs_embedding',\n",
    "  'sumeczech_cs_embedding',\n",
    "  'ud_cs_embedding',\n",
    "  'wikipedia_cs_embedding',\n",
    "]\n",
    "\n",
    "embedding2_sk = [\n",
    "  'combined_sk_embedding',\n",
    "  'slovaksum_sk_embedding',\n",
    "  'squad_sk_embedding',\n",
    "  'ud_sk_embedding',\n",
    "  'wikipedia_sk_embedding'\n",
    "]\n",
    "\n",
    "embedding2_models_cs_sk = [\n",
    "  'ud_cs_sk_embedding',\n",
    "  'wikipedia_cs_sk_embedding',\n",
    "]"
   ]
  },
  {
   "cell_type": "code",
   "execution_count": 6,
   "metadata": {},
   "outputs": [
    {
     "name": "stdout",
     "output_type": "stream",
     "text": [
      "./models/ud_cs_sk_embedding/ud/POSLSTMClassifier/metrics*.json\n",
      "['./models/ud_cs_sk_embedding/ud/POSLSTMClassifier/metrics-111.json', './models/ud_cs_sk_embedding/ud/POSLSTMClassifier/metrics-123.json', './models/ud_cs_sk_embedding/ud/POSLSTMClassifier/metrics-321.json', './models/ud_cs_sk_embedding/ud/POSLSTMClassifier/metrics-42.json', './models/ud_cs_sk_embedding/ud/POSLSTMClassifier/metrics-456.json', './models/ud_cs_sk_embedding/ud/POSLSTMClassifier/metrics-654.json', './models/ud_cs_sk_embedding/ud/POSLSTMClassifier/metrics-789.json', './models/ud_cs_sk_embedding/ud/POSLSTMClassifier/metrics-888.json', './models/ud_cs_sk_embedding/ud/POSLSTMClassifier/metrics-987.json', './models/ud_cs_sk_embedding/ud/POSLSTMClassifier/metrics-999.json']\n",
      "./models/wikipedia_cs_sk_embedding/ud/POSLSTMClassifier/metrics*.json\n",
      "['./models/wikipedia_cs_sk_embedding/ud/POSLSTMClassifier/metrics-111.json', './models/wikipedia_cs_sk_embedding/ud/POSLSTMClassifier/metrics-123.json', './models/wikipedia_cs_sk_embedding/ud/POSLSTMClassifier/metrics-321.json', './models/wikipedia_cs_sk_embedding/ud/POSLSTMClassifier/metrics-42.json', './models/wikipedia_cs_sk_embedding/ud/POSLSTMClassifier/metrics-456.json', './models/wikipedia_cs_sk_embedding/ud/POSLSTMClassifier/metrics-654.json', './models/wikipedia_cs_sk_embedding/ud/POSLSTMClassifier/metrics-789.json', './models/wikipedia_cs_sk_embedding/ud/POSLSTMClassifier/metrics-888.json', './models/wikipedia_cs_sk_embedding/ud/POSLSTMClassifier/metrics-987.json', './models/wikipedia_cs_sk_embedding/ud/POSLSTMClassifier/metrics-999.json']\n"
     ]
    }
   ],
   "source": [
    "results2 = dict()\n",
    "\n",
    "for embed in embedding2_models_cs_sk:\n",
    "    for task in ['ud']:\n",
    "\n",
    "      print('./models/' + embed + '/' + task + '/POSLSTMClassifier/metrics*.json')\n",
    "      metrcis_file = glob.glob('./models/' + embed + '/' + task + '/POSLSTMClassifier/metrics*.json')\n",
    "      metrcis_file.sort()\n",
    "      print(metrcis_file)\n",
    "      # load all metrics file\n",
    "      metrics = []\n",
    "      for file in metrcis_file:\n",
    "        with open(file) as json_file:\n",
    "          metrics.append(json.load(json_file))\n",
    "\n",
    "      # add data to dataframe\n",
    "      df = pd.DataFrame()\n",
    "      for idx, metric in enumerate(metrics):\n",
    "        # get seed idx\n",
    "        seed = metrcis_file[idx].split('/')[-1].split('.')[0].split('-')[-1]\n",
    "        record_df = pd.DataFrame.from_dict(metric, orient='index').T\n",
    "        record_df['seed'] = seed\n",
    "        df = pd.concat([df, record_df], ignore_index=True)\n",
    "      \n",
    "      results2[embed + '_' + task] = df"
   ]
  },
  {
   "cell_type": "code",
   "execution_count": 7,
   "metadata": {},
   "outputs": [
    {
     "data": {
      "text/plain": [
       "{'ud_cs_sk_embedding_ud':     test_f1  test_accuracy  test_precision  test_recall seed\n",
       " 0  0.625784       0.623663        0.645158     0.623663  111\n",
       " 1  0.614463       0.615164        0.627068     0.615164  123\n",
       " 2  0.637557       0.636430        0.654737     0.636430  321\n",
       " 3  0.632759       0.633766        0.647748     0.633766   42\n",
       " 4  0.623089       0.619223        0.643742     0.619223  456\n",
       " 5  0.620034       0.617999        0.636319     0.617999  654\n",
       " 6  0.626317       0.627048        0.639671     0.627048  789\n",
       " 7  0.616498       0.614962        0.635155     0.614962  888\n",
       " 8  0.629305       0.629036        0.642255     0.629036  987\n",
       " 9  0.636271       0.632750        0.659649     0.632750  999,\n",
       " 'wikipedia_cs_sk_embedding_ud':     test_f1  test_accuracy  test_precision  test_recall seed\n",
       " 0  0.627367       0.629968        0.641025     0.629968  111\n",
       " 1  0.615809       0.615814        0.630709     0.615814  123\n",
       " 2  0.622467       0.618836        0.642571     0.618836  321\n",
       " 3  0.636498       0.636938        0.651314     0.636938   42\n",
       " 4  0.620323       0.621396        0.633532     0.621396  456\n",
       " 5  0.625133       0.624932        0.638318     0.624932  654\n",
       " 6  0.622437       0.623595        0.635037     0.623595  789\n",
       " 7  0.616354       0.614127        0.634383     0.614127  888\n",
       " 8  0.628672       0.626752        0.645194     0.626752  987\n",
       " 9  0.629189       0.627221        0.646617     0.627221  999}"
      ]
     },
     "execution_count": 7,
     "metadata": {},
     "output_type": "execute_result"
    }
   ],
   "source": [
    "results2"
   ]
  },
  {
   "cell_type": "code",
   "execution_count": 10,
   "metadata": {},
   "outputs": [
    {
     "data": {
      "text/html": [
       "<div>\n",
       "<style scoped>\n",
       "    .dataframe tbody tr th:only-of-type {\n",
       "        vertical-align: middle;\n",
       "    }\n",
       "\n",
       "    .dataframe tbody tr th {\n",
       "        vertical-align: top;\n",
       "    }\n",
       "\n",
       "    .dataframe thead th {\n",
       "        text-align: right;\n",
       "    }\n",
       "</style>\n",
       "<table border=\"1\" class=\"dataframe\">\n",
       "  <thead>\n",
       "    <tr style=\"text-align: right;\">\n",
       "      <th></th>\n",
       "      <th>test_f1</th>\n",
       "      <th>test_accuracy</th>\n",
       "      <th>test_precision</th>\n",
       "      <th>test_recall</th>\n",
       "    </tr>\n",
       "  </thead>\n",
       "  <tbody>\n",
       "    <tr>\n",
       "      <th>count</th>\n",
       "      <td>10.000000</td>\n",
       "      <td>10.000000</td>\n",
       "      <td>10.000000</td>\n",
       "      <td>10.000000</td>\n",
       "    </tr>\n",
       "    <tr>\n",
       "      <th>mean</th>\n",
       "      <td>0.626208</td>\n",
       "      <td>0.625004</td>\n",
       "      <td>0.643150</td>\n",
       "      <td>0.625004</td>\n",
       "    </tr>\n",
       "    <tr>\n",
       "      <th>std</th>\n",
       "      <td>0.007908</td>\n",
       "      <td>0.007956</td>\n",
       "      <td>0.009511</td>\n",
       "      <td>0.007956</td>\n",
       "    </tr>\n",
       "    <tr>\n",
       "      <th>min</th>\n",
       "      <td>0.614463</td>\n",
       "      <td>0.614962</td>\n",
       "      <td>0.627068</td>\n",
       "      <td>0.614962</td>\n",
       "    </tr>\n",
       "    <tr>\n",
       "      <th>25%</th>\n",
       "      <td>0.620798</td>\n",
       "      <td>0.618305</td>\n",
       "      <td>0.637157</td>\n",
       "      <td>0.618305</td>\n",
       "    </tr>\n",
       "    <tr>\n",
       "      <th>50%</th>\n",
       "      <td>0.626051</td>\n",
       "      <td>0.625355</td>\n",
       "      <td>0.642999</td>\n",
       "      <td>0.625355</td>\n",
       "    </tr>\n",
       "    <tr>\n",
       "      <th>75%</th>\n",
       "      <td>0.631895</td>\n",
       "      <td>0.631821</td>\n",
       "      <td>0.647101</td>\n",
       "      <td>0.631821</td>\n",
       "    </tr>\n",
       "    <tr>\n",
       "      <th>max</th>\n",
       "      <td>0.637557</td>\n",
       "      <td>0.636430</td>\n",
       "      <td>0.659649</td>\n",
       "      <td>0.636430</td>\n",
       "    </tr>\n",
       "  </tbody>\n",
       "</table>\n",
       "</div>"
      ],
      "text/plain": [
       "         test_f1  test_accuracy  test_precision  test_recall\n",
       "count  10.000000      10.000000       10.000000    10.000000\n",
       "mean    0.626208       0.625004        0.643150     0.625004\n",
       "std     0.007908       0.007956        0.009511     0.007956\n",
       "min     0.614463       0.614962        0.627068     0.614962\n",
       "25%     0.620798       0.618305        0.637157     0.618305\n",
       "50%     0.626051       0.625355        0.642999     0.625355\n",
       "75%     0.631895       0.631821        0.647101     0.631821\n",
       "max     0.637557       0.636430        0.659649     0.636430"
      ]
     },
     "execution_count": 10,
     "metadata": {},
     "output_type": "execute_result"
    }
   ],
   "source": [
    "results2['ud_cs_sk_embedding_ud'].describe()"
   ]
  },
  {
   "cell_type": "code",
   "execution_count": null,
   "metadata": {},
   "outputs": [],
   "source": []
  }
 ],
 "metadata": {
  "kernelspec": {
   "display_name": "nlp",
   "language": "python",
   "name": "python3"
  },
  "language_info": {
   "codemirror_mode": {
    "name": "ipython",
    "version": 3
   },
   "file_extension": ".py",
   "mimetype": "text/x-python",
   "name": "python",
   "nbconvert_exporter": "python",
   "pygments_lexer": "ipython3",
   "version": "3.10.13"
  }
 },
 "nbformat": 4,
 "nbformat_minor": 2
}
