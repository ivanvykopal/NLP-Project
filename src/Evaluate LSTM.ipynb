{
 "cells": [
  {
   "cell_type": "code",
   "execution_count": 1,
   "metadata": {},
   "outputs": [],
   "source": [
    "import json\n",
    "import pandas as pd\n",
    "import glob"
   ]
  },
  {
   "cell_type": "code",
   "execution_count": 2,
   "metadata": {},
   "outputs": [],
   "source": [
    "data_path = './models/'"
   ]
  },
  {
   "cell_type": "code",
   "execution_count": 3,
   "metadata": {},
   "outputs": [],
   "source": [
    "embedding_models_en = [\n",
    "  'ccnews_en_embedding',\n",
    "  'wikipedia_en_embedding',\n",
    "  'ud_en_embedding',\n",
    "  'combined_en_embedding',\n",
    "]\n",
    "\n",
    "embedding_models_cs = [\n",
    "  'sumeczech_cs_embedding',\n",
    "  'wikipedia_cs_embedding',\n",
    "  'ud_cs_embedding',\n",
    "  'combined_cs_embedding',\n",
    "]\n",
    "\n",
    "embedding_models_sk = [\n",
    "  'slovaksum_sk_embedding',\n",
    "  'squad_sk_embedding',\n",
    "  'wikipedia_sk_embedding',\n",
    "  'ud_sk_embedding',\n",
    "  'combined_sk_embedding',\n",
    "]\n",
    "\n",
    "embedding_model_cs_sk = [\n",
    "  'ud_cs_sk_embedding',\n",
    "  'wikipedia_cs_sk_embedding'\n",
    "]"
   ]
  },
  {
   "cell_type": "code",
   "execution_count": 4,
   "metadata": {},
   "outputs": [],
   "source": [
    "downstream_en = [\n",
    "  'fever',\n",
    "  'liar',\n",
    "  'multifc',\n",
    "  'xfact',\n",
    "  'combined_claim_en',\n",
    "]\n",
    "\n",
    "downstream_cs = [\n",
    "  'csfever',\n",
    "  'ctkfacts',\n",
    "  'demagog',\n",
    "  'combined_claim_cs',\n",
    "]\n",
    "\n",
    "downstream_sk = [\n",
    "  'demagog',\n",
    "  'combined_claim_sk',\n",
    "]"
   ]
  },
  {
   "cell_type": "code",
   "execution_count": 5,
   "metadata": {},
   "outputs": [],
   "source": [
    "current_downstream = downstream_sk\n",
    "current_embedding = embedding_model_cs_sk"
   ]
  },
  {
   "cell_type": "code",
   "execution_count": 6,
   "metadata": {},
   "outputs": [
    {
     "name": "stdout",
     "output_type": "stream",
     "text": [
      "./models/ud_cs_sk_embedding/demagog/LSTMClassifier/metrics*.json\n",
      "./models/ud_cs_sk_embedding/combined_claim_sk/LSTMClassifier/metrics*.json\n",
      "./models/wikipedia_cs_sk_embedding/demagog/LSTMClassifier/metrics*.json\n",
      "./models/wikipedia_cs_sk_embedding/combined_claim_sk/LSTMClassifier/metrics*.json\n"
     ]
    }
   ],
   "source": [
    "results = dict()\n",
    "\n",
    "for embed in current_embedding:\n",
    "    for task in current_downstream:\n",
    "      print(data_path + embed + '/' + task + '/LSTMClassifier/metrics*.json')\n",
    "      metrcis_file = glob.glob(data_path + embed + '/' + task + '/LSTMClassifier/metrics*.json')\n",
    "      metrcis_file.sort()\n",
    "      # load all metrics file\n",
    "      metrics = []\n",
    "      for file in metrcis_file:\n",
    "        with open(file) as json_file:\n",
    "          metrics.append(json.load(json_file))\n",
    "\n",
    "      # add data to dataframe\n",
    "      df = pd.DataFrame()\n",
    "      for idx, metric in enumerate(metrics):\n",
    "        # get seed idx\n",
    "        seed = metrcis_file[idx].split('/')[-1].split('.')[0].split('-')[-1]\n",
    "        record_df = pd.DataFrame.from_dict(metric, orient='index').T\n",
    "        record_df['seed'] = seed\n",
    "        df = pd.concat([df, record_df], ignore_index=True)\n",
    "      \n",
    "      results[embed + '_' + task] = df"
   ]
  },
  {
   "cell_type": "code",
   "execution_count": 7,
   "metadata": {},
   "outputs": [
    {
     "data": {
      "text/plain": [
       "{'ud_cs_sk_embedding_demagog':     test_f1  test_accuracy  test_precision  test_recall seed\n",
       " 0  0.716074       0.600207        0.701584     0.731418  111\n",
       " 1  0.718507       0.600287        0.709125     0.729253  123\n",
       " 2  0.761112       0.644770        0.712571     0.817647  321\n",
       " 3  0.718058       0.606824        0.725056     0.712597   42\n",
       " 4  0.719764       0.601562        0.719826     0.720638  456\n",
       " 5  0.746165       0.630660        0.736622     0.756844  654\n",
       " 6  0.713425       0.597975        0.698411     0.730220  789\n",
       " 7  0.716933       0.598294        0.712392     0.721941  888\n",
       " 8  0.704421       0.591916        0.741363     0.671869  987\n",
       " 9  0.732559       0.617188        0.739495     0.727322  999,\n",
       " 'ud_cs_sk_embedding_combined_claim_sk':     test_f1  test_accuracy  test_precision  test_recall seed\n",
       " 0  0.737045       0.636813        0.735299     0.740454  111\n",
       " 1  0.697784       0.591903        0.697114     0.698924  123\n",
       " 2  0.738180       0.631236        0.723793     0.753653  321\n",
       " 3  0.719232       0.617008        0.731089     0.708434   42\n",
       " 4  0.740970       0.633462        0.742944     0.739590  456\n",
       " 5  0.689311       0.590235        0.702993     0.677220  654\n",
       " 6  0.703302       0.594419        0.687879     0.719980  789\n",
       " 7  0.718190       0.609773        0.710324     0.726925  888\n",
       " 8  0.727566       0.621188        0.742638     0.713458  987\n",
       " 9  0.724630       0.623727        0.718615     0.732470  999,\n",
       " 'wikipedia_cs_sk_embedding_demagog':     test_f1  test_accuracy  test_precision  test_recall seed\n",
       " 0  0.744022       0.624203        0.701172     0.793904  111\n",
       " 1  0.723084       0.607701        0.715018     0.731608  123\n",
       " 2  0.732699       0.620217        0.716237     0.750870  321\n",
       " 3  0.681880       0.567044        0.706883     0.660322   42\n",
       " 4  0.698303       0.584503        0.722050     0.676322  456\n",
       " 5  0.755288       0.642060        0.739889     0.771652  654\n",
       " 6  0.714668       0.598932        0.698607     0.731919  789\n",
       " 7  0.731265       0.613281        0.718374     0.745271  888\n",
       " 8  0.716762       0.605070        0.745341     0.692344  987\n",
       " 9  0.700911       0.580517        0.721654     0.681846  999,\n",
       " 'wikipedia_cs_sk_embedding_combined_claim_sk':     test_f1  test_accuracy  test_precision  test_recall seed\n",
       " 0  0.725715       0.615608        0.712352     0.739926  111\n",
       " 1  0.712840       0.612273        0.713250     0.713255  123\n",
       " 2  0.722244       0.615618        0.721779     0.723660  321\n",
       " 3  0.745080       0.635714        0.723353     0.768679   42\n",
       " 4  0.735926       0.629843        0.746167     0.727113  456\n",
       " 5  0.707378       0.606418        0.707286     0.708288  654\n",
       " 6  0.719085       0.619524        0.709431     0.729957  789\n",
       " 7  0.723276       0.611170        0.706707     0.742063  888\n",
       " 8  0.745575       0.649922        0.772001     0.721750  987\n",
       " 9  0.693098       0.589694        0.702116     0.685833  999}"
      ]
     },
     "execution_count": 7,
     "metadata": {},
     "output_type": "execute_result"
    }
   ],
   "source": [
    "results"
   ]
  },
  {
   "cell_type": "code",
   "execution_count": 8,
   "metadata": {},
   "outputs": [],
   "source": [
    "datatable_f1 = pd.DataFrame(columns=current_embedding, index=current_downstream)\n",
    "datatable_accuracy = pd.DataFrame(columns=current_embedding, index=current_downstream)\n",
    "\n",
    "\n",
    "for embed in current_embedding:\n",
    "    for task in current_downstream:\n",
    "        data = results[embed + '_' + task]\n",
    "\n",
    "        # get mean and std of test_f1 and test_accuracy not base on the seed\n",
    "        mean_test_f1 = data['test_f1'].mean()\n",
    "        std_test_f1 = data['test_f1'].std()\n",
    "        mean_test_accuracy = data['test_accuracy'].mean()\n",
    "        std_test_accuracy = data['test_accuracy'].std()\n",
    "\n",
    "        datatable_f1.loc[task, embed] = str(round(mean_test_f1*100, 2)) + ' ± ' + str(round(std_test_f1*100, 2))\n",
    "        datatable_accuracy.loc[task, embed] = str(round(mean_test_accuracy*100, 2)) + ' ± ' + str(round(std_test_accuracy*100, 2))"
   ]
  },
  {
   "cell_type": "code",
   "execution_count": 9,
   "metadata": {},
   "outputs": [
    {
     "name": "stdout",
     "output_type": "stream",
     "text": [
      "\\begin{tabular}{lll}\n",
      "\\toprule\n",
      " & ud_cs_sk_embedding & wikipedia_cs_sk_embedding \\\\\n",
      "\\midrule\n",
      "demagog & 72.47\\% $\\pm$ 1.71 & 71.99\\% $\\pm$ 2.22 \\\\\n",
      "combined_claim_sk & 71.96\\% $\\pm$ 1.78 & 72.3\\% $\\pm$ 1.64 \\\\\n",
      "\\bottomrule\n",
      "\\end{tabular}\n",
      "\n"
     ]
    }
   ],
   "source": [
    "print(datatable_f1.to_latex().replace(' ±', '\\% $\\pm$'))"
   ]
  },
  {
   "cell_type": "code",
   "execution_count": 33,
   "metadata": {},
   "outputs": [
    {
     "data": {
      "text/html": [
       "<div>\n",
       "<style scoped>\n",
       "    .dataframe tbody tr th:only-of-type {\n",
       "        vertical-align: middle;\n",
       "    }\n",
       "\n",
       "    .dataframe tbody tr th {\n",
       "        vertical-align: top;\n",
       "    }\n",
       "\n",
       "    .dataframe thead th {\n",
       "        text-align: right;\n",
       "    }\n",
       "</style>\n",
       "<table border=\"1\" class=\"dataframe\">\n",
       "  <thead>\n",
       "    <tr style=\"text-align: right;\">\n",
       "      <th></th>\n",
       "      <th>test_f1</th>\n",
       "      <th>test_accuracy</th>\n",
       "      <th>test_precision</th>\n",
       "      <th>test_recall</th>\n",
       "    </tr>\n",
       "  </thead>\n",
       "  <tbody>\n",
       "    <tr>\n",
       "      <th>count</th>\n",
       "      <td>2.000000</td>\n",
       "      <td>2.000000</td>\n",
       "      <td>2.000000</td>\n",
       "      <td>2.000000</td>\n",
       "    </tr>\n",
       "    <tr>\n",
       "      <th>mean</th>\n",
       "      <td>0.749655</td>\n",
       "      <td>0.633131</td>\n",
       "      <td>0.720531</td>\n",
       "      <td>0.782778</td>\n",
       "    </tr>\n",
       "    <tr>\n",
       "      <th>std</th>\n",
       "      <td>0.007967</td>\n",
       "      <td>0.012627</td>\n",
       "      <td>0.027377</td>\n",
       "      <td>0.015734</td>\n",
       "    </tr>\n",
       "    <tr>\n",
       "      <th>min</th>\n",
       "      <td>0.744022</td>\n",
       "      <td>0.624203</td>\n",
       "      <td>0.701172</td>\n",
       "      <td>0.771652</td>\n",
       "    </tr>\n",
       "    <tr>\n",
       "      <th>25%</th>\n",
       "      <td>0.746838</td>\n",
       "      <td>0.628667</td>\n",
       "      <td>0.710851</td>\n",
       "      <td>0.777215</td>\n",
       "    </tr>\n",
       "    <tr>\n",
       "      <th>50%</th>\n",
       "      <td>0.749655</td>\n",
       "      <td>0.633131</td>\n",
       "      <td>0.720531</td>\n",
       "      <td>0.782778</td>\n",
       "    </tr>\n",
       "    <tr>\n",
       "      <th>75%</th>\n",
       "      <td>0.752472</td>\n",
       "      <td>0.637596</td>\n",
       "      <td>0.730210</td>\n",
       "      <td>0.788341</td>\n",
       "    </tr>\n",
       "    <tr>\n",
       "      <th>max</th>\n",
       "      <td>0.755288</td>\n",
       "      <td>0.642060</td>\n",
       "      <td>0.739889</td>\n",
       "      <td>0.793904</td>\n",
       "    </tr>\n",
       "  </tbody>\n",
       "</table>\n",
       "</div>"
      ],
      "text/plain": [
       "        test_f1  test_accuracy  test_precision  test_recall\n",
       "count  2.000000       2.000000        2.000000     2.000000\n",
       "mean   0.749655       0.633131        0.720531     0.782778\n",
       "std    0.007967       0.012627        0.027377     0.015734\n",
       "min    0.744022       0.624203        0.701172     0.771652\n",
       "25%    0.746838       0.628667        0.710851     0.777215\n",
       "50%    0.749655       0.633131        0.720531     0.782778\n",
       "75%    0.752472       0.637596        0.730210     0.788341\n",
       "max    0.755288       0.642060        0.739889     0.793904"
      ]
     },
     "execution_count": 33,
     "metadata": {},
     "output_type": "execute_result"
    }
   ],
   "source": [
    "results['wikipedia_cs_sk_embedding_demagog'].iloc[[0, 5]].describe()"
   ]
  },
  {
   "cell_type": "code",
   "execution_count": null,
   "metadata": {},
   "outputs": [],
   "source": []
  }
 ],
 "metadata": {
  "kernelspec": {
   "display_name": "nlp",
   "language": "python",
   "name": "python3"
  },
  "language_info": {
   "codemirror_mode": {
    "name": "ipython",
    "version": 3
   },
   "file_extension": ".py",
   "mimetype": "text/x-python",
   "name": "python",
   "nbconvert_exporter": "python",
   "pygments_lexer": "ipython3",
   "version": "3.10.13"
  }
 },
 "nbformat": 4,
 "nbformat_minor": 2
}
